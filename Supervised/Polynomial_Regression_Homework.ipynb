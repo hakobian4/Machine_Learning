{
 "cells": [
  {
   "cell_type": "markdown",
   "metadata": {},
   "source": [
    "# Polynomial Regression Homework"
   ]
  },
  {
   "cell_type": "markdown",
   "metadata": {},
   "source": [
    "## Tasks"
   ]
  },
  {
   "cell_type": "markdown",
   "metadata": {},
   "source": [
    "* Generate dataset\n",
    "* Split into train-test\n",
    "* Implement Polynomial Regression Class \n",
    "* Implement all functions which we used in the lecture\n",
    "* Search good hyperparameters for n_degree and lambda"
   ]
  },
  {
   "cell_type": "markdown",
   "metadata": {},
   "source": [
    "### Generate Dataset"
   ]
  },
  {
   "cell_type": "markdown",
   "metadata": {},
   "source": [
    "* Generate noise sin dataset\n",
    "* Split into train test\n"
   ]
  },
  {
   "cell_type": "markdown",
   "metadata": {},
   "source": [
    "### Implement Polynomial Regression"
   ]
  },
  {
   "cell_type": "code",
   "execution_count": 160,
   "metadata": {},
   "outputs": [],
   "source": [
    "import numpy as np\n",
    "import matplotlib.pyplot as plt \n",
    "from sklearn.model_selection import train_test_split\n",
    "from sklearn.preprocessing import PolynomialFeatures"
   ]
  },
  {
   "cell_type": "code",
   "execution_count": 161,
   "metadata": {},
   "outputs": [],
   "source": [
    "np.random.seed(64)\n",
    "X = np.sin(np.linspace(0, 45, 300))\n",
    "Y_line = np.sin(X)\n",
    "Y = Y_line + np.random.normal(0, 0.4, 300)\n",
    "\n",
    "#X_train, X_test, Y_train, Y_test = train_test_split(X, Y, test_size=0.4, random_state=64)"
   ]
  },
  {
   "cell_type": "code",
   "execution_count": 162,
   "metadata": {},
   "outputs": [],
   "source": [
    "class PolynomialRegression:\n",
    "    \"\"\"Polynomial Regression with regularization(ridge)\"\"\"\n",
    "\n",
    "    def __init__(self, n_degree=2, lambda_=None):\n",
    "        \"\"\"\n",
    "        Init method takes n_degree and lambda_ params\n",
    "        :param n_degree: (int) degree of polynomial\n",
    "        :param lambda_: (float or None) None if you don't want to use regularization\n",
    "        \"\"\"\n",
    "        self.n_degree = n_degree\n",
    "        self.lambda_ = lambda_\n",
    "        self.bettas = None\n",
    "        self.X = None\n",
    "\n",
    "    def fit(self, X, Y):\n",
    "        \"\"\"\n",
    "        Main fit method.\n",
    "        Need to take X, transform to polynomial features, and fit linear regression(use regularization if lambda_ not None)\n",
    "        Fitted bettas assign to self.bettas\n",
    "        :param X: (np.array) features\n",
    "        :param Y: (np.array) target\n",
    "        :return: None\n",
    "        \"\"\"\n",
    "        self.X = np.append(np.ones(len(X)).reshape(len(X), 1), X.reshape(len(X), 1), axis = 1)\n",
    "        self.X = PolynomialFeatures(degree=2).fit_transform(self.X)\n",
    "        \n",
    "        reg = 0\n",
    "        if self.lambda_ == None:\n",
    "            pass\n",
    "        else: reg = self.lambda_ * np.eye(len(self.X[0]))\n",
    "            \n",
    "        self.bettas = np.matmul(np.matmul(np.linalg.inv(np.matmul(np.transpose(self.X), self.X) + reg), np.transpose(self.X)), Y)\n",
    "\n",
    "    def predict(self, X):\n",
    "        \"\"\"\n",
    "        Predict method.\n",
    "        Takes X transform to polynomial features, and make predictions \n",
    "        :param X:(np.array) features\n",
    "        :return:Y_pred(np.array) predictions\n",
    "        \"\"\"\n",
    "        Y_pred = np.matmul(self.X, self.bettas)\n",
    "        return Y_pred\n",
    "\n",
    "    def coeff(self):\n",
    "        \"\"\"\n",
    "        Returns fitted model coefficients(bettas)\n",
    "        :return: bettas(np.array)\n",
    "        \"\"\""
   ]
  },
  {
   "cell_type": "code",
   "execution_count": 164,
   "metadata": {},
   "outputs": [],
   "source": [
    "obj = PolynomialRegression(2, 0.5)\n",
    "obj.fit(X, Y)\n",
    "obj.predict(X)"
   ]
  },
  {
   "cell_type": "markdown",
   "metadata": {},
   "source": [
    "### Implement all functions which we used in the lecture"
   ]
  },
  {
   "cell_type": "code",
   "execution_count": null,
   "metadata": {},
   "outputs": [],
   "source": [
    "def plot_polinomial_regression(X_train, Y_train, X_test, Y_test, n_degree=2, lambda_=None):\n",
    "    \"\"\"\n",
    "    Need to plot train, test points and fitted line(1D case only), and print train, test loss(MSE)\n",
    "\n",
    "    :param X_train: (np.array)\n",
    "    :param Y_train: (np.array)\n",
    "    :param X_test: (np.array)\n",
    "    :param Y_test: (np.array)\n",
    "    :param n_degree: (int)\n",
    "    :param lambda_: (float or None) None if you don't want to use regularization\n",
    "    :return: None \n",
    "    \"\"\"\n",
    "    pass\n",
    "\n",
    "\n",
    "def plot_degree_vs_loss(X_train, Y_train, X_test, Y_test, range_=10, lambda_=None):\n",
    "    \"\"\"\n",
    "    Need to iterate over over polynomial degrees fit and plot train loss vs test loss\n",
    "    :param X_train: (np.array)\n",
    "    :param Y_train: (np.array)\n",
    "    :param X_test: (np.array)\n",
    "    :param Y_test: (np.array)\n",
    "    :param n_degree: (int)\n",
    "    :param lambda_: (float or None) None if you don't want to use regularization\n",
    "    :return: None\n",
    "    \"\"\"\n",
    "    pass\n",
    "\n",
    "def plot_lambda_vs_loss(X_train, Y_train, X_test, Y_test, degree, lambda_range=[0,2]):\n",
    "    \"\"\"\n",
    "    Need to iterate over over polynomial degrees fit and plot train loss vs test loss\n",
    "    :param X_train: (np.array)\n",
    "    :param Y_train: (np.array)\n",
    "    :param X_test: (np.array)\n",
    "    :param Y_test: (np.array)\n",
    "    :param n_degree: (int)\n",
    "    :param lambda_range: (float or None) Searching space for lambda \n",
    "    :return: None\n",
    "    \"\"\""
   ]
  },
  {
   "cell_type": "markdown",
   "metadata": {},
   "source": [
    "### Search good hyperparameters for n_degree and lambda\n",
    "### Use your implemented functions"
   ]
  }
 ],
 "metadata": {
  "kernelspec": {
   "display_name": "Python 3",
   "language": "python",
   "name": "python3"
  },
  "language_info": {
   "codemirror_mode": {
    "name": "ipython",
    "version": 3
   },
   "file_extension": ".py",
   "mimetype": "text/x-python",
   "name": "python",
   "nbconvert_exporter": "python",
   "pygments_lexer": "ipython3",
   "version": "3.6.9"
  }
 },
 "nbformat": 4,
 "nbformat_minor": 2
}
