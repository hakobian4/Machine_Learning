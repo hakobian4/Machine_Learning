{
 "cells": [
  {
   "cell_type": "markdown",
   "metadata": {},
   "source": [
    "# Polynomial Regression Homework"
   ]
  },
  {
   "cell_type": "markdown",
   "metadata": {},
   "source": [
    "## Tasks"
   ]
  },
  {
   "cell_type": "markdown",
   "metadata": {},
   "source": [
    "* Generate dataset\n",
    "* Split into train-test\n",
    "* Implement Polynomial Regression Class \n",
    "* Implement all functions which we used in the lecture\n",
    "* Search good hyperparameters for n_degree and lambda"
   ]
  },
  {
   "cell_type": "markdown",
   "metadata": {},
   "source": [
    "### Generate Dataset"
   ]
  },
  {
   "cell_type": "markdown",
   "metadata": {},
   "source": [
    "* Generate noise sin dataset\n",
    "* Split into train test\n"
   ]
  },
  {
   "cell_type": "markdown",
   "metadata": {},
   "source": [
    "### Implement Polynomial Regression"
   ]
  },
  {
   "cell_type": "code",
   "execution_count": 20,
   "metadata": {},
   "outputs": [],
   "source": [
    "import numpy as np\n",
    "import matplotlib.pyplot as plt \n",
    "from sklearn.model_selection import train_test_split\n",
    "from sklearn.preprocessing import PolynomialFeatures"
   ]
  },
  {
   "cell_type": "code",
   "execution_count": 225,
   "metadata": {},
   "outputs": [],
   "source": [
    "np.random.seed(64)\n",
    "X = np.linspace(0, 45, 300).reshape(300, 1)\n",
    "Y_line = np.sin(X)\n",
    "Y = Y_line + np.random.normal(0, 1, 300).reshape(300, 1)\n",
    "\n",
    "X_train, X_test, Y_train, Y_test = train_test_split(X, Y, test_size = 0.4, random_state = 64)"
   ]
  },
  {
   "cell_type": "code",
   "execution_count": 226,
   "metadata": {},
   "outputs": [],
   "source": [
    "class PolynomialRegression:\n",
    "    \"\"\"Polynomial Regression with regularization(ridge)\"\"\"\n",
    "\n",
    "    def __init__(self, n_degree = 2, lambda_ = None):\n",
    "        \"\"\"\n",
    "        Init method takes n_degree and lambda_ params\n",
    "        :param n_degree: (int) degree of polynomial\n",
    "        :param lambda_: (float or None) None if you don't want to use regularization\n",
    "        \"\"\"\n",
    "        self.degree = n_degree\n",
    "        self.lambda_ = lambda_\n",
    "        self.bettas = None\n",
    "\n",
    "    def fit(self, X, Y):\n",
    "        \"\"\"\n",
    "        Main fit method.\n",
    "        Need to take X, transform to polynomial features, and fit linear regression(use regularization if lambda_ not None)\n",
    "        Fitted bettas assign to self.bettas\n",
    "        :param X: (np.array) features\n",
    "        :param Y: (np.array) target\n",
    "        :return: None\n",
    "        \"\"\"\n",
    "        X_ = PolynomialFeatures(self.degree).fit_transform(X)\n",
    "        \n",
    "        if self.lambda_ == None:\n",
    "            reg = 0\n",
    "        else: reg = self.lambda_ * np.eye(len(X_[0]))\n",
    "            \n",
    "        self.bettas = np.dot(np.dot(np.linalg.inv(np.dot(np.transpose(X_), X_) + reg), np.transpose(X_)), Y)\n",
    "\n",
    "    def predict(self, X):\n",
    "        \"\"\"\n",
    "        Predict method.\n",
    "        Takes X transform to polynomial features, and make predictions \n",
    "        :param X:(np.array) features\n",
    "        :return:Y_pred(np.array) predictions\n",
    "        \"\"\"\n",
    "        X_ = PolynomialFeatures(self.degree).fit_transform(X)\n",
    "        \n",
    "        Y_pred = np.dot(X_, self.bettas)\n",
    "        return Y_pred\n",
    "\n",
    "    def coeff(self):\n",
    "        \"\"\"\n",
    "        Returns fitted model coefficients(bettas)\n",
    "        :return: bettas(np.array)\n",
    "        \"\"\"\n",
    "        return self.bettas\n",
    "    \n",
    "    def loss(self, X, Y):\n",
    "        \"\"\"\n",
    "        This methot implements Mean Square Error Loss\n",
    "        :return: Mean Square Error Loss\n",
    "        \"\"\"\n",
    "        Y_pred = self.predict(X)\n",
    "        L = ((Y - Y_pred) ** 2).sum()\n",
    "        return L / (2 * len(Y))\n",
    "        "
   ]
  },
  {
   "cell_type": "code",
   "execution_count": 224,
   "metadata": {},
   "outputs": [],
   "source": [
    "#obj = PolynomialRegression()\n",
    "#obj.fit(X_train, Y_train)\n",
    "#obj.predict(X_train)\n",
    "#obj.coeff()\n",
    "#obj.loss(X_train, Y_train)"
   ]
  },
  {
   "cell_type": "markdown",
   "metadata": {},
   "source": [
    "### Implement all functions which we used in the lecture"
   ]
  },
  {
   "cell_type": "code",
   "execution_count": 235,
   "metadata": {},
   "outputs": [],
   "source": [
    "def plot_polinomial_regression(X_train, Y_train, X_test, Y_test, n_degree=2, lambda_=None):\n",
    "    \"\"\"\n",
    "    Need to plot train, test points and fitted line(1D case only), and print train, test loss(MSE)\n",
    "\n",
    "    :param X_train: (np.array)\n",
    "    :param Y_train: (np.array)\n",
    "    :param X_test: (np.array)\n",
    "    :param Y_test: (np.array)\n",
    "    :param n_degree: (int)\n",
    "    :param lambda_: (float or None) None if you don't want to use regularization\n",
    "    :return: None \n",
    "    \"\"\"\n",
    "    model = PolynomialRegression(n_degree)\n",
    "    model.fit(X_train, Y_train)\n",
    "    X_test= np.sort(X_test, axis=0)\n",
    "    print(model.loss(X_train, Y_train))\n",
    "    print(model.loss(X_test, Y_test))\n",
    "    Y_pred = model.predict(X_test)\n",
    "    plt.scatter(X_test, Y_test)\n",
    "    plt.plot(X_test, Y_pred, color='r')\n",
    "\n",
    "\n",
    "def plot_degree_vs_loss(X_train, Y_train, X_test, Y_test, range_= 10, lambda_ = None):\n",
    "    \"\"\"\n",
    "    Need to iterate over over polynomial degrees fit and plot train loss vs test loss\n",
    "    :param X_train: (np.array)\n",
    "    :param Y_train: (np.array)\n",
    "    :param X_test: (np.array)\n",
    "    :param Y_test: (np.array)\n",
    "    :param n_degree: (int)\n",
    "    :param lambda_: (float or None) None if you don't want to use regularization\n",
    "    :return: None\n",
    "    \"\"\"\n",
    "    train_loss = []\n",
    "    test_loss = []\n",
    "    for i in range(1, range_):\n",
    "        model = PolynomialRegression(i)\n",
    "        model.fit(X_train, Y_train)\n",
    "        train_loss = np.append(train_loss, model.loss(X_train, Y_train))\n",
    "        test_loss = np.append(test_loss, model.loss(X_test, Y_test))\n",
    "        \n",
    "    plt.plot(range(1,  range_), train_loss, label = \"train_loss\")\n",
    "    plt.plot(range(1,  range_), test_loss, label = \"test_loss\")\n",
    "    plt.xlabel(\"Degree of Polynom\")\n",
    "    plt.ylabel(\"MSE Loss\")\n",
    "    plt.legend(loc = 0)\n",
    "\n",
    "def plot_lambda_vs_loss(X_train, Y_train, X_test, Y_test, degree, lambda_range = [0, 3]):\n",
    "    \"\"\"\n",
    "    Need to iterate over over polynomial degrees fit and plot train loss vs test loss\n",
    "    :param X_train: (np.array)\n",
    "    :param Y_train: (np.array)\n",
    "    :param X_test: (np.array)\n",
    "    :param Y_test: (np.array)\n",
    "    :param n_degree: (int)\n",
    "    :param lambda_range: (float or None) Searching space for lambda \n",
    "    :return: None\n",
    "    \"\"\"\n",
    "    train_loss = []\n",
    "    test_loss = []\n",
    "    l_r = []\n",
    "    #for i in range(lambda_range[0], lambda_range[1], 0.005):\n",
    "    lambda_r = lambda_range[0]\n",
    "    while lambda_r <=  lambda_range[1]:  \n",
    "        l_r = np.append(l_r, lambda_r)\n",
    "        model = PolynomialRegression(degree, lambda_r)\n",
    "        model.fit(X_train, Y_train)\n",
    "        train_loss = np.append(train_loss, model.loss(X_train, Y_train))\n",
    "        test_loss = np.append(test_loss, model.loss(X_test, Y_test))\n",
    "        lambda_r += 0.005\n",
    "        \n",
    "    plt.plot(l_r, train_loss, label = \"train_loss\")\n",
    "    plt.plot(l_r, test_loss, label = \"test_loss\")\n",
    "    plt.xlabel(\"Lambda of Polynom\")\n",
    "    plt.ylabel(\"MSE Loss\")\n",
    "    plt.legend(loc = 0)\n",
    "    "
   ]
  },
  {
   "cell_type": "code",
   "execution_count": 249,
   "metadata": {},
   "outputs": [
    {
     "name": "stdout",
     "output_type": "stream",
     "text": [
      "0.8895773766650203\n",
      "0.839825131637874\n"
     ]
    },
    {
     "data": {
      "image/png": "[encoded data removed]",
      "text/plain": [
       "<Figure size 432x288 with 1 Axes>"
      ]
     },
     "metadata": {
      "needs_background": "light"
     },
     "output_type": "display_data"
    }
   ],
   "source": [
    "plot_polinomial_regression(X_train, Y_train, X_test, Y_test, n_degree = 2, lambda_ = None)"
   ]
  },
  {
   "cell_type": "code",
   "execution_count": 256,
   "metadata": {},
   "outputs": [
    {
     "data": {
      "image/png": "[encoded data removed]",
      "text/plain": [
       "<Figure size 432x288 with 1 Axes>"
      ]
     },
     "metadata": {
      "needs_background": "light"
     },
     "output_type": "display_data"
    }
   ],
   "source": [
    "plot_degree_vs_loss(X_train, Y_train, X_test, Y_test, range_ = 10, lambda_ = None)"
   ]
  },
  {
   "cell_type": "code",
   "execution_count": 238,
   "metadata": {},
   "outputs": [
    {
     "data": {
      "image/png": "[encoded data removed]",
      "text/plain": [
       "<Figure size 432x288 with 1 Axes>"
      ]
     },
     "metadata": {
      "needs_background": "light"
     },
     "output_type": "display_data"
    }
   ],
   "source": [
    "plot_lambda_vs_loss(X_train, Y_train, X_test, Y_test, degree = 6, lambda_range = [0,2])"
   ]
  },
  {
   "cell_type": "markdown",
   "metadata": {},
   "source": [
    "### Search good hyperparameters for n_degree and lambda\n",
    "### Use your implemented functions"
   ]
  },
  {
   "cell_type": "code",
   "execution_count": null,
   "metadata": {},
   "outputs": [],
   "source": []
  }
 ],
 "metadata": {
  "kernelspec": {
   "display_name": "Python 3",
   "language": "python",
   "name": "python3"
  },
  "language_info": {
   "codemirror_mode": {
    "name": "ipython",
    "version": 3
   },
   "file_extension": ".py",
   "mimetype": "text/x-python",
   "name": "python",
   "nbconvert_exporter": "python",
   "pygments_lexer": "ipython3",
   "version": "3.6.9"
  }
 },
 "nbformat": 4,
 "nbformat_minor": 2
}
