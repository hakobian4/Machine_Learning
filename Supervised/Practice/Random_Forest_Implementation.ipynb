{
 "cells": [
  {
   "cell_type": "markdown",
   "metadata": {},
   "source": [
    "### Imports"
   ]
  },
  {
   "cell_type": "code",
   "execution_count": 1,
   "metadata": {},
   "outputs": [],
   "source": [
    "import numpy as np\n",
    "import pandas as pd\n",
    "from sklearn import tree\n",
    "from collections import Counter\n",
    "from sklearn.model_selection import train_test_split\n",
    "from scipy import stats\n",
    "from sklearn.metrics import accuracy_score"
   ]
  },
  {
   "cell_type": "markdown",
   "metadata": {},
   "source": [
    "### Download Sonar Dataset"
   ]
  },
  {
   "cell_type": "code",
   "execution_count": 2,
   "metadata": {
    "scrolled": true
   },
   "outputs": [],
   "source": [
    "path = \"https://archive.ics.uci.edu/ml/machine-learning-databases/undocumented/connectionist-bench/sonar/sonar.all-data\"\n",
    "names = ['col_'+str(i) for i in np.arange(61)]\n",
    "data = pd.read_csv(path, names = names)\n",
    "data.fillna(method='ffill', inplace=True)\n",
    "\n",
    "#TODO train, test split\n",
    "X = data[data.columns[0 : -1]]\n",
    "Y = data[data.columns[-1]]\n",
    "X_train, X_test, Y_train, Y_test = train_test_split(X, Y, test_size = 0.3, random_state = 0)"
   ]
  },
  {
   "cell_type": "code",
   "execution_count": 3,
   "metadata": {},
   "outputs": [],
   "source": [
    "from sklearn.tree import DecisionTreeClassifier as DecisionTree\n",
    "class RandomForest:\n",
    "    def __init__(self, \n",
    "                 max_depth=4,\n",
    "                 subsample_size=70,\n",
    "                 tree_count=5,\n",
    "                 criterion=\"gini\"):\n",
    "        self.trees = []\n",
    "        for i in range(tree_count):\n",
    "            self.trees.append(DecisionTree(criterion=criterion, max_depth=max_depth))\n",
    "    \n",
    "    def fit(self, X, Y):\n",
    "        #np.random.seed(64)\n",
    "        idx = np.random.choice(X.shape[0], size = 70)\n",
    "        X_part = X.values[idx]\n",
    "        Y_part = Y.values[idx]       \n",
    "        for index, tree in enumerate(self.trees):\n",
    "            #TODO bootstrap X_part and Y_part for each tree\n",
    "            self.trees[index].fit(X_part, Y_part)\n",
    "        \n",
    "    def predict(self, X):\n",
    "        predictions = []\n",
    "        for index, tree in enumerate(self.trees):\n",
    "            predictions.append(self.trees[index].predict(X))\n",
    "        #TODO combine and return y_pred\n",
    "        y_pred = stats.mode(np.array(predictions))\n",
    "        return y_pred.mode.reshape(X.shape[0],1)"
   ]
  },
  {
   "cell_type": "markdown",
   "metadata": {},
   "source": [
    "### Try on the sonar dataset"
   ]
  },
  {
   "cell_type": "code",
   "execution_count": 4,
   "metadata": {},
   "outputs": [
    {
     "name": "stdout",
     "output_type": "stream",
     "text": [
      "0.7142857142857143\n"
     ]
    }
   ],
   "source": [
    "# TODO fit and predict on sonar dataset\n",
    "# TODO compare results with Y_test and print the accuracy\n",
    "model_a = RandomForest()\n",
    "model_a.fit(X_train, Y_train)\n",
    "model_a.predict(X_test)\n",
    "print(accuracy_score(Y_test, model_a.predict(X_test)))"
   ]
  },
  {
   "cell_type": "markdown",
   "metadata": {},
   "source": [
    "### Try the Random Forest Implementation form Sklearn and compare results"
   ]
  },
  {
   "cell_type": "code",
   "execution_count": 5,
   "metadata": {},
   "outputs": [
    {
     "name": "stdout",
     "output_type": "stream",
     "text": [
      "0.7936507936507936\n"
     ]
    }
   ],
   "source": [
    "from sklearn.ensemble import RandomForestClassifier\n",
    "model = RandomForestClassifier(max_depth=4)\n",
    "model.fit(X_train, Y_train)\n",
    "model.predict(X_test)\n",
    "print(accuracy_score(Y_test, model.predict(X_test)))"
   ]
  },
  {
   "cell_type": "code",
   "execution_count": null,
   "metadata": {},
   "outputs": [],
   "source": []
  }
 ],
 "metadata": {
  "kernelspec": {
   "display_name": "Python 3",
   "language": "python",
   "name": "python3"
  },
  "language_info": {
   "codemirror_mode": {
    "name": "ipython",
    "version": 3
   },
   "file_extension": ".py",
   "mimetype": "text/x-python",
   "name": "python",
   "nbconvert_exporter": "python",
   "pygments_lexer": "ipython3",
   "version": "3.6.9"
  }
 },
 "nbformat": 4,
 "nbformat_minor": 2
}
