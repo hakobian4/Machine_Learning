{
 "cells": [
  {
   "cell_type": "code",
   "execution_count": 45,
   "metadata": {},
   "outputs": [],
   "source": [
    "class Matrixt:\n",
    "    def __init__(self, nrows, ncols):\n",
    "        self.nrows = nrows\n",
    "        self.ncols = ncols\n",
    "        self.matrix = []    \n",
    "        \n",
    "    def create_matrix(self, l):\n",
    "        for i in range(0, self.nrows):\n",
    "            lis = []\n",
    "            for j in range(self.ncols):\n",
    "                lis.append(l[j+i*self.ncols])\n",
    "            self.matrix.append(lis)\n",
    "        return self.matrix\n",
    "    \n",
    "    def __mul__(self, other):\n",
    "        if self.ncols == other.ncols:\n",
    "            matrix = []\n",
    "            for k in range(self.nrows):\n",
    "                l_ = []\n",
    "                for i in range(self.nrows):\n",
    "                    s = 0\n",
    "                    for j in range(other.nrows):\n",
    "                        s += self.matrix[k][j] * other.matrix[j][i]\n",
    "                    l_.append(s)\n",
    "                matrix.append(l_)\n",
    "        else:\n",
    "            print(\"no\")\n",
    "    "
   ]
  },
  {
   "cell_type": "code",
   "execution_count": 47,
   "metadata": {},
   "outputs": [
    {
     "name": "stdout",
     "output_type": "stream",
     "text": [
      "Enter a column of matrix: 4\n",
      "Enter a row of matrix: 2\n",
      "1\n",
      "2\n",
      "3\n",
      "4\n",
      "5\n",
      "6\n",
      "7\n",
      "8\n",
      "[1, 2, 3, 4, 5, 6, 7, 8]\n",
      "[[1, 2], [3, 1], [2, 3]]\n"
     ]
    }
   ],
   "source": [
    "def param():\n",
    "    l = []\n",
    "    n = int(input(\"Enter a column of matrix: \"))\n",
    "    m = int(input(\"Enter a row of matrix: \")) \n",
    "    for k in range(n*m):\n",
    "        l.append(int(input()))\n",
    "    print(l)\n",
    "        \n",
    "param()\n",
    "xasxas = Matrixt(m, n)\n",
    "print(xasxas.create_matrix(l))\n",
    "\n",
    "\n"
   ]
  },
  {
   "cell_type": "code",
   "execution_count": null,
   "metadata": {},
   "outputs": [],
   "source": []
  },
  {
   "cell_type": "code",
   "execution_count": null,
   "metadata": {},
   "outputs": [],
   "source": []
  }
 ],
 "metadata": {
  "kernelspec": {
   "display_name": "ml",
   "language": "python",
   "name": "ml"
  },
  "language_info": {
   "codemirror_mode": {
    "name": "ipython",
    "version": 3
   },
   "file_extension": ".py",
   "mimetype": "text/x-python",
   "name": "python",
   "nbconvert_exporter": "python",
   "pygments_lexer": "ipython3",
   "version": "3.6.9"
  }
 },
 "nbformat": 4,
 "nbformat_minor": 4
}
