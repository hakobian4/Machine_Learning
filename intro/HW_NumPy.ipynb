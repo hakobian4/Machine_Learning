{
 "cells": [
  {
   "cell_type": "markdown",
   "metadata": {},
   "source": [
    "# NumPy Exercises \n",
    "\n",
    "Now that we've learned about NumPy let's test your knowledge. We'll start off with a few simple tasks, and then you'll be asked some more complicated questions."
   ]
  },
  {
   "cell_type": "markdown",
   "metadata": {},
   "source": [
    "#### Import NumPy as np"
   ]
  },
  {
   "cell_type": "code",
   "execution_count": 1,
   "metadata": {},
   "outputs": [],
   "source": [
    "import numpy as np"
   ]
  },
  {
   "cell_type": "markdown",
   "metadata": {},
   "source": [
    "#### Create an array of 10 zeros"
   ]
  },
  {
   "cell_type": "code",
   "execution_count": 2,
   "metadata": {},
   "outputs": [
    {
     "data": {
      "text/plain": [
       "array([0., 0., 0., 0., 0., 0., 0., 0., 0., 0.])"
      ]
     },
     "execution_count": 2,
     "metadata": {},
     "output_type": "execute_result"
    }
   ],
   "source": [
    "np.zeros(10)"
   ]
  },
  {
   "cell_type": "markdown",
   "metadata": {},
   "source": [
    "#### Create an array of 10 ones"
   ]
  },
  {
   "cell_type": "code",
   "execution_count": 9,
   "metadata": {},
   "outputs": [
    {
     "data": {
      "text/plain": [
       "array([1., 1., 1., 1., 1., 1., 1., 1., 1., 1.])"
      ]
     },
     "execution_count": 9,
     "metadata": {},
     "output_type": "execute_result"
    }
   ],
   "source": [
    "np.ones(10)"
   ]
  },
  {
   "cell_type": "markdown",
   "metadata": {},
   "source": [
    "#### Create an array of 10 fives"
   ]
  },
  {
   "cell_type": "code",
   "execution_count": 8,
   "metadata": {},
   "outputs": [
    {
     "data": {
      "text/plain": [
       "array([5., 5., 5., 5., 5., 5., 5., 5., 5., 5.])"
      ]
     },
     "execution_count": 8,
     "metadata": {},
     "output_type": "execute_result"
    }
   ],
   "source": [
    "np.ones(10) * 5"
   ]
  },
  {
   "cell_type": "markdown",
   "metadata": {},
   "source": [
    "#### Create an array of the integers from 10 to 50"
   ]
  },
  {
   "cell_type": "code",
   "execution_count": 9,
   "metadata": {},
   "outputs": [
    {
     "data": {
      "text/plain": [
       "array([10, 11, 12, 13, 14, 15, 16, 17, 18, 19, 20, 21, 22, 23, 24, 25, 26,\n",
       "       27, 28, 29, 30, 31, 32, 33, 34, 35, 36, 37, 38, 39, 40, 41, 42, 43,\n",
       "       44, 45, 46, 47, 48, 49, 50])"
      ]
     },
     "execution_count": 9,
     "metadata": {},
     "output_type": "execute_result"
    }
   ],
   "source": [
    "np.arange(10, 51)"
   ]
  },
  {
   "cell_type": "markdown",
   "metadata": {},
   "source": [
    "#### Create an array of all the even integers from 10 to 50"
   ]
  },
  {
   "cell_type": "code",
   "execution_count": 10,
   "metadata": {},
   "outputs": [
    {
     "data": {
      "text/plain": [
       "array([10, 12, 14, 16, 18, 20, 22, 24, 26, 28, 30, 32, 34, 36, 38, 40, 42,\n",
       "       44, 46, 48, 50])"
      ]
     },
     "execution_count": 10,
     "metadata": {},
     "output_type": "execute_result"
    }
   ],
   "source": [
    "np.arange(10, 51, 2)"
   ]
  },
  {
   "cell_type": "markdown",
   "metadata": {},
   "source": [
    "#### Create a 3x3 matrix with values ranging from 0 to 8"
   ]
  },
  {
   "cell_type": "code",
   "execution_count": 13,
   "metadata": {},
   "outputs": [
    {
     "data": {
      "text/plain": [
       "array([[0, 1, 2],\n",
       "       [3, 4, 5],\n",
       "       [6, 7, 8]])"
      ]
     },
     "execution_count": 13,
     "metadata": {},
     "output_type": "execute_result"
    }
   ],
   "source": [
    "np.arange(9).reshape(3, 3)"
   ]
  },
  {
   "cell_type": "markdown",
   "metadata": {},
   "source": [
    "#### Create a 3x3 identity matrix"
   ]
  },
  {
   "cell_type": "code",
   "execution_count": 15,
   "metadata": {},
   "outputs": [
    {
     "data": {
      "text/plain": [
       "array([[1., 0., 0.],\n",
       "       [0., 1., 0.],\n",
       "       [0., 0., 1.]])"
      ]
     },
     "execution_count": 15,
     "metadata": {},
     "output_type": "execute_result"
    }
   ],
   "source": [
    "np.eye(3)"
   ]
  },
  {
   "cell_type": "markdown",
   "metadata": {},
   "source": [
    "#### Use NumPy to generate a random number between 0 and 1"
   ]
  },
  {
   "cell_type": "code",
   "execution_count": 18,
   "metadata": {},
   "outputs": [
    {
     "data": {
      "text/plain": [
       "array([0.34961182])"
      ]
     },
     "execution_count": 18,
     "metadata": {},
     "output_type": "execute_result"
    }
   ],
   "source": [
    "np.random.rand(1)"
   ]
  },
  {
   "cell_type": "markdown",
   "metadata": {},
   "source": [
    "#### Use NumPy to generate an array of 25 random numbers sampled from a standard normal distribution"
   ]
  },
  {
   "cell_type": "code",
   "execution_count": 21,
   "metadata": {},
   "outputs": [
    {
     "data": {
      "text/plain": [
       "array([-1.15890208, -0.89402214,  1.12562294,  0.37806795, -0.31299386,\n",
       "       -1.01926504, -0.00197608, -0.20064865, -0.7089875 , -0.09973428,\n",
       "       -0.49593057,  1.07115439,  1.02852679,  1.28556402, -0.18752301,\n",
       "        0.71026577,  0.21965962,  0.9319259 , -1.63614092, -0.08012955,\n",
       "       -1.1266303 , -0.39192183, -0.05917121,  1.32639857,  1.62800288])"
      ]
     },
     "execution_count": 21,
     "metadata": {},
     "output_type": "execute_result"
    }
   ],
   "source": [
    "np.random.randn(25)"
   ]
  },
  {
   "cell_type": "markdown",
   "metadata": {},
   "source": [
    "#### Create the following matrix:"
   ]
  },
  {
   "cell_type": "code",
   "execution_count": 24,
   "metadata": {},
   "outputs": [
    {
     "data": {
      "text/plain": [
       "array([[0.01, 0.02, 0.03, 0.04, 0.05, 0.06, 0.07, 0.08, 0.09, 0.1 ],\n",
       "       [0.11, 0.12, 0.13, 0.14, 0.15, 0.16, 0.17, 0.18, 0.19, 0.2 ],\n",
       "       [0.21, 0.22, 0.23, 0.24, 0.25, 0.26, 0.27, 0.28, 0.29, 0.3 ],\n",
       "       [0.31, 0.32, 0.33, 0.34, 0.35, 0.36, 0.37, 0.38, 0.39, 0.4 ],\n",
       "       [0.41, 0.42, 0.43, 0.44, 0.45, 0.46, 0.47, 0.48, 0.49, 0.5 ],\n",
       "       [0.51, 0.52, 0.53, 0.54, 0.55, 0.56, 0.57, 0.58, 0.59, 0.6 ],\n",
       "       [0.61, 0.62, 0.63, 0.64, 0.65, 0.66, 0.67, 0.68, 0.69, 0.7 ],\n",
       "       [0.71, 0.72, 0.73, 0.74, 0.75, 0.76, 0.77, 0.78, 0.79, 0.8 ],\n",
       "       [0.81, 0.82, 0.83, 0.84, 0.85, 0.86, 0.87, 0.88, 0.89, 0.9 ],\n",
       "       [0.91, 0.92, 0.93, 0.94, 0.95, 0.96, 0.97, 0.98, 0.99, 1.  ]])"
      ]
     },
     "execution_count": 24,
     "metadata": {},
     "output_type": "execute_result"
    }
   ],
   "source": [
    "np.arange(1, 101).reshape(10, 10) / 100"
   ]
  },
  {
   "cell_type": "markdown",
   "metadata": {},
   "source": [
    "#### Create an array of 20 linearly spaced points between 0 and 1:"
   ]
  },
  {
   "cell_type": "code",
   "execution_count": 27,
   "metadata": {},
   "outputs": [
    {
     "data": {
      "text/plain": [
       "array([0.        , 0.05263158, 0.10526316, 0.15789474, 0.21052632,\n",
       "       0.26315789, 0.31578947, 0.36842105, 0.42105263, 0.47368421,\n",
       "       0.52631579, 0.57894737, 0.63157895, 0.68421053, 0.73684211,\n",
       "       0.78947368, 0.84210526, 0.89473684, 0.94736842, 1.        ])"
      ]
     },
     "execution_count": 27,
     "metadata": {},
     "output_type": "execute_result"
    }
   ],
   "source": [
    "np.linspace(0, 1, 20)"
   ]
  },
  {
   "cell_type": "markdown",
   "metadata": {},
   "source": [
    "## Numpy Indexing and Selection\n",
    "\n",
    "Now you will be given a few matrices, and be asked to replicate the resulting matrix outputs:"
   ]
  },
  {
   "cell_type": "code",
   "execution_count": 31,
   "metadata": {},
   "outputs": [
    {
     "data": {
      "text/plain": [
       "array([[ 1,  2,  3,  4,  5],\n",
       "       [ 6,  7,  8,  9, 10],\n",
       "       [11, 12, 13, 14, 15],\n",
       "       [16, 17, 18, 19, 20],\n",
       "       [21, 22, 23, 24, 25]])"
      ]
     },
     "execution_count": 31,
     "metadata": {},
     "output_type": "execute_result"
    }
   ],
   "source": [
    "mat = np.arange(1,26).reshape(5,5)\n",
    "mat"
   ]
  },
  {
   "cell_type": "code",
   "execution_count": 32,
   "metadata": {},
   "outputs": [
    {
     "data": {
      "text/plain": [
       "array([[12, 13, 14, 15],\n",
       "       [17, 18, 19, 20],\n",
       "       [22, 23, 24, 25]])"
      ]
     },
     "execution_count": 32,
     "metadata": {},
     "output_type": "execute_result"
    }
   ],
   "source": [
    "mat[2 : , 1 : ]"
   ]
  },
  {
   "cell_type": "code",
   "execution_count": 40,
   "metadata": {},
   "outputs": [
    {
     "data": {
      "text/plain": [
       "array([[12, 13, 14, 15],\n",
       "       [17, 18, 19, 20],\n",
       "       [22, 23, 24, 25]])"
      ]
     },
     "execution_count": 40,
     "metadata": {},
     "output_type": "execute_result"
    }
   ],
   "source": []
  },
  {
   "cell_type": "code",
   "execution_count": 33,
   "metadata": {},
   "outputs": [
    {
     "data": {
      "text/plain": [
       "20"
      ]
     },
     "execution_count": 33,
     "metadata": {},
     "output_type": "execute_result"
    }
   ],
   "source": [
    "mat[3, -1]"
   ]
  },
  {
   "cell_type": "code",
   "execution_count": 41,
   "metadata": {},
   "outputs": [
    {
     "data": {
      "text/plain": [
       "20"
      ]
     },
     "execution_count": 41,
     "metadata": {},
     "output_type": "execute_result"
    }
   ],
   "source": []
  },
  {
   "cell_type": "code",
   "execution_count": 55,
   "metadata": {},
   "outputs": [
    {
     "data": {
      "text/plain": [
       "array([[ 2],\n",
       "       [ 7],\n",
       "       [12]])"
      ]
     },
     "execution_count": 55,
     "metadata": {},
     "output_type": "execute_result"
    }
   ],
   "source": [
    "#mat[ : 3, 1].reshape(3, 1) or\n",
    "mat[ : 3, 1 : 2]"
   ]
  },
  {
   "cell_type": "code",
   "execution_count": 42,
   "metadata": {},
   "outputs": [
    {
     "data": {
      "text/plain": [
       "array([[ 2],\n",
       "       [ 7],\n",
       "       [12]])"
      ]
     },
     "execution_count": 42,
     "metadata": {},
     "output_type": "execute_result"
    }
   ],
   "source": []
  },
  {
   "cell_type": "code",
   "execution_count": 39,
   "metadata": {},
   "outputs": [
    {
     "data": {
      "text/plain": [
       "array([21, 22, 23, 24, 25])"
      ]
     },
     "execution_count": 39,
     "metadata": {},
     "output_type": "execute_result"
    }
   ],
   "source": [
    "mat[-1]"
   ]
  },
  {
   "cell_type": "code",
   "execution_count": 46,
   "metadata": {},
   "outputs": [
    {
     "data": {
      "text/plain": [
       "array([21, 22, 23, 24, 25])"
      ]
     },
     "execution_count": 46,
     "metadata": {},
     "output_type": "execute_result"
    }
   ],
   "source": []
  },
  {
   "cell_type": "code",
   "execution_count": 41,
   "metadata": {},
   "outputs": [
    {
     "data": {
      "text/plain": [
       "array([[16, 17, 18, 19, 20],\n",
       "       [21, 22, 23, 24, 25]])"
      ]
     },
     "execution_count": 41,
     "metadata": {},
     "output_type": "execute_result"
    }
   ],
   "source": [
    "mat[-2 :]"
   ]
  },
  {
   "cell_type": "code",
   "execution_count": 49,
   "metadata": {},
   "outputs": [
    {
     "data": {
      "text/plain": [
       "array([[16, 17, 18, 19, 20],\n",
       "       [21, 22, 23, 24, 25]])"
      ]
     },
     "execution_count": 49,
     "metadata": {},
     "output_type": "execute_result"
    }
   ],
   "source": []
  },
  {
   "cell_type": "markdown",
   "metadata": {},
   "source": [
    "### Now do the following"
   ]
  },
  {
   "cell_type": "markdown",
   "metadata": {},
   "source": [
    "#### Get the sum of all the values in mat"
   ]
  },
  {
   "cell_type": "code",
   "execution_count": 46,
   "metadata": {},
   "outputs": [
    {
     "data": {
      "text/plain": [
       "325"
      ]
     },
     "execution_count": 46,
     "metadata": {},
     "output_type": "execute_result"
    }
   ],
   "source": [
    "#mat.sum() or\n",
    "#sum(sum(mat)) or\n",
    "sum(mat).sum()"
   ]
  },
  {
   "cell_type": "markdown",
   "metadata": {},
   "source": [
    "#### Get the standard deviation of the values in mat"
   ]
  },
  {
   "cell_type": "code",
   "execution_count": 47,
   "metadata": {},
   "outputs": [
    {
     "data": {
      "text/plain": [
       "7.211102550927978"
      ]
     },
     "execution_count": 47,
     "metadata": {},
     "output_type": "execute_result"
    }
   ],
   "source": [
    "mat.std()"
   ]
  },
  {
   "cell_type": "markdown",
   "metadata": {},
   "source": [
    "#### Get the sum of all the columns in mat"
   ]
  },
  {
   "cell_type": "code",
   "execution_count": 51,
   "metadata": {},
   "outputs": [
    {
     "data": {
      "text/plain": [
       "array([55, 60, 65, 70, 75])"
      ]
     },
     "execution_count": 51,
     "metadata": {},
     "output_type": "execute_result"
    }
   ],
   "source": [
    "#sum(mat) or\n",
    "mat.sum(axis = 0)"
   ]
  },
  {
   "cell_type": "markdown",
   "metadata": {},
   "source": [
    "## Assign the following values\n",
    "theta_0 = 15; \n",
    "theta_1 = 0.2; \n",
    "variance=1.2"
   ]
  },
  {
   "cell_type": "code",
   "execution_count": 4,
   "metadata": {},
   "outputs": [],
   "source": [
    "theta_0 = 15; theta_1 = 0.2; variance = 1.2"
   ]
  },
  {
   "cell_type": "markdown",
   "metadata": {},
   "source": [
    "## Generate 100 points uniform randomly in range [-50,50] and assign it to X_0"
   ]
  },
  {
   "cell_type": "code",
   "execution_count": 125,
   "metadata": {},
   "outputs": [
    {
     "data": {
      "text/plain": [
       "array([ 23.17806005,  35.75949646, -34.65895138, -48.56749344,\n",
       "       -13.52242753, -30.5667931 ,  49.10842203,  11.02925008,\n",
       "       -11.87941533,  -7.79796832,  44.88539279,  39.12182851,\n",
       "        17.33615696, -47.37495455,  25.84046915,  -0.63601561,\n",
       "       -23.18341967,  31.66090257,  28.09933353,  41.5008099 ,\n",
       "       -34.88276788,  36.31948219,   5.14480858,   0.83106024,\n",
       "        -6.72998245, -34.78057295,   7.88729515,   7.59584209,\n",
       "       -42.63421571, -30.96385977,  49.02953814,  22.10337174,\n",
       "        22.37273801, -27.99381561, -43.33301065, -48.65078399,\n",
       "       -24.69121344,   7.38425895,  12.11198568,  19.23723233,\n",
       "        21.9366023 ,  22.93168227,   7.77298052,  32.76951569,\n",
       "        -4.72147103,  48.79308865,  -5.02792086, -15.66994286,\n",
       "         9.17718861, -15.81954346, -39.70863303,  31.41049434,\n",
       "        10.1453746 ,  -3.73617562, -33.50808815, -11.93931854,\n",
       "       -25.77569363,  48.15139925, -46.38576348,  47.82670069,\n",
       "        30.89192785,  11.29462576,   2.44703783,  -5.88789407,\n",
       "        45.00401087, -10.62451157,   8.04369879,  -1.98785115,\n",
       "         5.93808652, -42.87854374, -39.45727798,  40.86110773,\n",
       "       -18.30902749,  30.98540113,  49.68019155,  -6.93913911,\n",
       "       -43.8872888 ,  -9.35767485, -25.49107529, -45.7188808 ,\n",
       "       -20.98280169,  27.77344552,  29.11241545,   3.63042651,\n",
       "       -37.7834486 ,   2.79715549,  18.32792824,  -6.80173956,\n",
       "        32.9910089 , -45.02707526, -19.54063163, -35.3191    ,\n",
       "       -39.8750605 ,  28.19806649,   3.92806509,  42.12074831,\n",
       "       -43.01882778,  48.03128605,  47.15254827, -49.01921277])"
      ]
     },
     "execution_count": 125,
     "metadata": {},
     "output_type": "execute_result"
    }
   ],
   "source": [
    "X_0 = np.random.uniform(-50, 51, 100)\n",
    "X_0"
   ]
  },
  {
   "cell_type": "markdown",
   "metadata": {},
   "source": [
    "## Generate respective y_i normally distributed around theta_0 + theta_1 * x line ('x' are values of X_0) with variance=1.2"
   ]
  },
  {
   "cell_type": "code",
   "execution_count": 130,
   "metadata": {},
   "outputs": [
    {
     "data": {
      "text/plain": [
       "array([19.18769439, 20.167685  ,  8.24052732,  5.44176628, 14.71567913,\n",
       "        8.68805887, 26.91684241, 19.54862158, 12.37080188, 13.01682634,\n",
       "       24.05285901, 23.18970477, 20.37789045,  5.56813322, 19.82732671,\n",
       "       12.63911905, 10.71322645, 21.74076788, 20.13911432, 24.97201337,\n",
       "        7.43722379, 20.2054105 , 16.2745937 , 12.01796379, 14.34507708,\n",
       "        8.84232164, 16.53487283, 14.46717885,  8.30279662,  7.5318842 ,\n",
       "       25.64601614, 19.09332174, 18.65221117,  8.71371276,  7.27870595,\n",
       "        5.52137831,  9.20720596, 16.73920083, 17.47928863, 18.04369052,\n",
       "       18.57389871, 18.82552079, 16.17091318, 21.06464353, 13.47569899,\n",
       "       25.19970268, 15.84344809, 10.46428755, 16.57192939, 13.03682108,\n",
       "        7.87539646, 21.40636425, 16.40816065, 17.57443364,  9.88587981,\n",
       "       13.76672827, 11.12423275, 26.69058889,  4.88014428, 26.27564608,\n",
       "       20.80301043, 16.15921666, 14.75819383, 14.65245978, 24.425684  ,\n",
       "       12.07674157, 17.37135526, 13.26837785, 14.56563763,  5.61586606,\n",
       "        7.71062847, 23.46430877, 12.30533303, 20.34844599, 26.99666704,\n",
       "       13.50792602,  6.08810446, 13.95729712, 10.64719655,  6.27258538,\n",
       "       10.67150215, 20.31762524, 21.49401903, 17.10905198,  8.63035716,\n",
       "       16.03279773, 16.39631592, 11.85221146, 21.80314399,  4.54261863,\n",
       "       12.03531728,  7.76717968,  6.45628454, 21.16039859, 13.39583354,\n",
       "       23.50125029,  6.20740575, 25.12374525, 23.53115455,  5.08554596])"
      ]
     },
     "execution_count": 130,
     "metadata": {},
     "output_type": "execute_result"
    }
   ],
   "source": [
    "y_ = []\n",
    "for i in range(len(X_0)):\n",
    "    y_ = np.append(y_, (variance * np.random.randn(1) + (theta_0 + theta_1 * X_0[i])))\n",
    "y_"
   ]
  },
  {
   "cell_type": "markdown",
   "metadata": {},
   "source": [
    "## Convert X_0 into array(if it is not) and add 1 from the left to each row"
   ]
  },
  {
   "cell_type": "code",
   "execution_count": 129,
   "metadata": {},
   "outputs": [
    {
     "data": {
      "text/plain": [
       "array([[  1.        ,  23.17806005],\n",
       "       [  1.        ,  35.75949646],\n",
       "       [  1.        , -34.65895138],\n",
       "       [  1.        , -48.56749344],\n",
       "       [  1.        , -13.52242753],\n",
       "       [  1.        , -30.5667931 ],\n",
       "       [  1.        ,  49.10842203],\n",
       "       [  1.        ,  11.02925008],\n",
       "       [  1.        , -11.87941533],\n",
       "       [  1.        ,  -7.79796832],\n",
       "       [  1.        ,  44.88539279],\n",
       "       [  1.        ,  39.12182851],\n",
       "       [  1.        ,  17.33615696],\n",
       "       [  1.        , -47.37495455],\n",
       "       [  1.        ,  25.84046915],\n",
       "       [  1.        ,  -0.63601561],\n",
       "       [  1.        , -23.18341967],\n",
       "       [  1.        ,  31.66090257],\n",
       "       [  1.        ,  28.09933353],\n",
       "       [  1.        ,  41.5008099 ],\n",
       "       [  1.        , -34.88276788],\n",
       "       [  1.        ,  36.31948219],\n",
       "       [  1.        ,   5.14480858],\n",
       "       [  1.        ,   0.83106024],\n",
       "       [  1.        ,  -6.72998245],\n",
       "       [  1.        , -34.78057295],\n",
       "       [  1.        ,   7.88729515],\n",
       "       [  1.        ,   7.59584209],\n",
       "       [  1.        , -42.63421571],\n",
       "       [  1.        , -30.96385977],\n",
       "       [  1.        ,  49.02953814],\n",
       "       [  1.        ,  22.10337174],\n",
       "       [  1.        ,  22.37273801],\n",
       "       [  1.        , -27.99381561],\n",
       "       [  1.        , -43.33301065],\n",
       "       [  1.        , -48.65078399],\n",
       "       [  1.        , -24.69121344],\n",
       "       [  1.        ,   7.38425895],\n",
       "       [  1.        ,  12.11198568],\n",
       "       [  1.        ,  19.23723233],\n",
       "       [  1.        ,  21.9366023 ],\n",
       "       [  1.        ,  22.93168227],\n",
       "       [  1.        ,   7.77298052],\n",
       "       [  1.        ,  32.76951569],\n",
       "       [  1.        ,  -4.72147103],\n",
       "       [  1.        ,  48.79308865],\n",
       "       [  1.        ,  -5.02792086],\n",
       "       [  1.        , -15.66994286],\n",
       "       [  1.        ,   9.17718861],\n",
       "       [  1.        , -15.81954346],\n",
       "       [  1.        , -39.70863303],\n",
       "       [  1.        ,  31.41049434],\n",
       "       [  1.        ,  10.1453746 ],\n",
       "       [  1.        ,  -3.73617562],\n",
       "       [  1.        , -33.50808815],\n",
       "       [  1.        , -11.93931854],\n",
       "       [  1.        , -25.77569363],\n",
       "       [  1.        ,  48.15139925],\n",
       "       [  1.        , -46.38576348],\n",
       "       [  1.        ,  47.82670069],\n",
       "       [  1.        ,  30.89192785],\n",
       "       [  1.        ,  11.29462576],\n",
       "       [  1.        ,   2.44703783],\n",
       "       [  1.        ,  -5.88789407],\n",
       "       [  1.        ,  45.00401087],\n",
       "       [  1.        , -10.62451157],\n",
       "       [  1.        ,   8.04369879],\n",
       "       [  1.        ,  -1.98785115],\n",
       "       [  1.        ,   5.93808652],\n",
       "       [  1.        , -42.87854374],\n",
       "       [  1.        , -39.45727798],\n",
       "       [  1.        ,  40.86110773],\n",
       "       [  1.        , -18.30902749],\n",
       "       [  1.        ,  30.98540113],\n",
       "       [  1.        ,  49.68019155],\n",
       "       [  1.        ,  -6.93913911],\n",
       "       [  1.        , -43.8872888 ],\n",
       "       [  1.        ,  -9.35767485],\n",
       "       [  1.        , -25.49107529],\n",
       "       [  1.        , -45.7188808 ],\n",
       "       [  1.        , -20.98280169],\n",
       "       [  1.        ,  27.77344552],\n",
       "       [  1.        ,  29.11241545],\n",
       "       [  1.        ,   3.63042651],\n",
       "       [  1.        , -37.7834486 ],\n",
       "       [  1.        ,   2.79715549],\n",
       "       [  1.        ,  18.32792824],\n",
       "       [  1.        ,  -6.80173956],\n",
       "       [  1.        ,  32.9910089 ],\n",
       "       [  1.        , -45.02707526],\n",
       "       [  1.        , -19.54063163],\n",
       "       [  1.        , -35.3191    ],\n",
       "       [  1.        , -39.8750605 ],\n",
       "       [  1.        ,  28.19806649],\n",
       "       [  1.        ,   3.92806509],\n",
       "       [  1.        ,  42.12074831],\n",
       "       [  1.        , -43.01882778],\n",
       "       [  1.        ,  48.03128605],\n",
       "       [  1.        ,  47.15254827],\n",
       "       [  1.        , -49.01921277]])"
      ]
     },
     "execution_count": 129,
     "metadata": {},
     "output_type": "execute_result"
    }
   ],
   "source": [
    "#it should look smth like this\n",
    "# (1,x1)\n",
    "# (1,x2)\n",
    "# .\n",
    "# .\n",
    "# .\n",
    "new_X_0 = []\n",
    "length = len(X_0)\n",
    "new_X_0 = np.append(np.ones(length).reshape(length, 1), X_0.reshape(length, 1), axis = 1)\n",
    "new_X_0"
   ]
  },
  {
   "cell_type": "markdown",
   "metadata": {
    "collapsed": true
   },
   "source": [
    "# Great Job!"
   ]
  }
 ],
 "metadata": {
  "kernelspec": {
   "display_name": "Python 3",
   "language": "python",
   "name": "python3"
  },
  "language_info": {
   "codemirror_mode": {
    "name": "ipython",
    "version": 3
   },
   "file_extension": ".py",
   "mimetype": "text/x-python",
   "name": "python",
   "nbconvert_exporter": "python",
   "pygments_lexer": "ipython3",
   "version": "3.6.9"
  }
 },
 "nbformat": 4,
 "nbformat_minor": 1
}
