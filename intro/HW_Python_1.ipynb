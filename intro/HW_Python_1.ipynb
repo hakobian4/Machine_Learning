{
 "cells": [
  {
   "cell_type": "markdown",
   "metadata": {},
   "source": [
    "HINT: Google anything you don't understand but never copy a code. Write it yourself."
   ]
  },
  {
   "cell_type": "markdown",
   "metadata": {},
   "source": [
    "### 1. Write a code that takes a list, finds the prime numbers in it and prints in reverse sequence."
   ]
  },
  {
   "cell_type": "code",
   "execution_count": 2,
   "metadata": {},
   "outputs": [
    {
     "name": "stdout",
     "output_type": "stream",
     "text": [
      "[97, 2, 1, 19, 17]\n"
     ]
    }
   ],
   "source": [
    "import math\n",
    "\n",
    "list_prime = [49, 17, 19, 1, 2, 34, 97, 21]\n",
    "list1 = []\n",
    "for i in list_prime:\n",
    "    l = 1\n",
    "    for j in range(2, int(math.sqrt(i))+1):\n",
    "        if i % j == 0:\n",
    "            l = 0\n",
    "            break\n",
    "    if l == 1:\n",
    "        list1.append(i)\n",
    "list1 = list1[::-1]\n",
    "print(list1)"
   ]
  },
  {
   "cell_type": "markdown",
   "metadata": {},
   "source": [
    "### 2. Write a function, that takes a list and a number, let's say n, and checks whether the n-th element of the list is even. If yes, prints \"n is even\", otherwise prints \"n is odd\" (replace n with the number). Use this function in an example."
   ]
  },
  {
   "cell_type": "code",
   "execution_count": 5,
   "metadata": {},
   "outputs": [
    {
     "name": "stdout",
     "output_type": "stream",
     "text": [
      "n is odd\n"
     ]
    }
   ],
   "source": [
    "def check_even_or_odd(l, n):\n",
    "     if l[n] % 2 == 0:\n",
    "        return(\"n is even\")\n",
    "     else:\n",
    "        return(\"n is odd\")\n",
    "    \n",
    "\n",
    "list_even_odd = [22, 33, 44, 55, 66]\n",
    "n = 1\n",
    "print(check_even_or_odd(list_even_odd, n))"
   ]
  },
  {
   "cell_type": "markdown",
   "metadata": {},
   "source": [
    "### 3. Write a function that returns Euclidian distance between given two vectors. The coordinates of the vectors are given in python lists. "
   ]
  },
  {
   "cell_type": "code",
   "execution_count": 6,
   "metadata": {},
   "outputs": [
    {
     "name": "stdout",
     "output_type": "stream",
     "text": [
      "11.045361017187261\n"
     ]
    }
   ],
   "source": [
    "def Euc_distance(a,b):\n",
    "    return(math.sqrt((a[0]-b[0])**2+(a[1]-b[1])**2+(a[2]-b[2])**2+(a[3]-b[3])**2))\n",
    "    \n",
    "p = [0,4, -1, -8]\n",
    "q = [3, 6, 9, -5]\n",
    "print(Euc_distance(p,q))"
   ]
  },
  {
   "cell_type": "markdown",
   "metadata": {},
   "source": [
    "### 4. Write a function that for the given number returns a list of its divisors. "
   ]
  },
  {
   "cell_type": "code",
   "execution_count": 7,
   "metadata": {},
   "outputs": [
    {
     "name": "stdout",
     "output_type": "stream",
     "text": [
      "2\n",
      "[1, 2]\n"
     ]
    }
   ],
   "source": [
    "def divisors(a):\n",
    "    c = []\n",
    "    for i in range(1, a+1):\n",
    "        if a % i == 0:\n",
    "            c.append(i)\n",
    "        else:\n",
    "            continue\n",
    "    return c\n",
    "\n",
    "num = int(input())\n",
    "print(divisors(num))"
   ]
  },
  {
   "cell_type": "markdown",
   "metadata": {},
   "source": [
    "### 5. Given a dictionary named \"d\" write a code to calculate the mean of the list stored in the \"white_list\" key in the dict and median of the list stored under the \"black_list\" key."
   ]
  },
  {
   "cell_type": "code",
   "execution_count": 9,
   "metadata": {},
   "outputs": [],
   "source": [
    "a = {\"black_list\": [16, 75, 89, 22, 8, 10], \"white_list\": [44, 78, 9, 10, 2, 39, 101, 98, 45], \"green_smile\": \":)\"}"
   ]
  },
  {
   "cell_type": "code",
   "execution_count": 10,
   "metadata": {},
   "outputs": [
    {
     "name": "stdout",
     "output_type": "stream",
     "text": [
      "mean ->  36.666666666666664\n",
      "median ->  19.0\n"
     ]
    }
   ],
   "source": [
    "def mean(a):\n",
    "    d = a[\"black_list\"]\n",
    "    d.sort()\n",
    "    s = 0\n",
    "    for i in range(len(d)):\n",
    "        s += d[i]\n",
    "    return s / len(d)\n",
    "\n",
    "def median(a):\n",
    "    d = a[\"black_list\"]\n",
    "    d.sort()\n",
    "    n = len(d)\n",
    "    if n % 2 == 0:\n",
    "        return (d[n // 2] + d[n // 2 - 1]) / 2\n",
    "    else: \n",
    "        return d[n // 2]\n",
    "\n",
    "print(\"mean -> \", mean(a))\n",
    "print(\"median -> \", median(a))"
   ]
  },
  {
   "cell_type": "markdown",
   "metadata": {},
   "source": [
    "### 6. Create a tuple from calculated mean and median of the previous problem and store them in the same dictionary under the key \"green_tuple\"."
   ]
  },
  {
   "cell_type": "code",
   "execution_count": 11,
   "metadata": {},
   "outputs": [
    {
     "name": "stdout",
     "output_type": "stream",
     "text": [
      "{'black_list': [8, 10, 16, 22, 75, 89], 'white_list': [44, 78, 9, 10, 2, 39, 101, 98, 45], 'green_smile': ':)', 'green_tuple': [36.666666666666664, 19.0]}\n"
     ]
    }
   ],
   "source": [
    "a[\"green_tuple\"] = [mean(a), median(a)]\n",
    "print(a)"
   ]
  },
  {
   "cell_type": "markdown",
   "metadata": {},
   "source": [
    "### 7. Write an algorithm to find the max number in the given list. Don't use python's max function. "
   ]
  },
  {
   "cell_type": "code",
   "execution_count": 12,
   "metadata": {},
   "outputs": [
    {
     "name": "stdout",
     "output_type": "stream",
     "text": [
      "enter a number of list: 3\n",
      "2\n",
      "3\n",
      "6\n",
      "Max = 6\n"
     ]
    }
   ],
   "source": [
    "def max_(a):\n",
    "    n = 0\n",
    "    for i in range(1,len(a)):\n",
    "        if a[i] > a[n]:\n",
    "            n = i\n",
    "        else:\n",
    "            continue\n",
    "    return a[n]\n",
    "\n",
    "l = int(input(\"enter a number of list: \"))\n",
    "list_ = []\n",
    "for i in range (l):\n",
    "    e = int(input())\n",
    "    list_.append(e)\n",
    "print(\"Max = \"'{}'.format(max_(list_)))"
   ]
  },
  {
   "cell_type": "markdown",
   "metadata": {},
   "source": [
    "### 8. Practice list slicing. "
   ]
  },
  {
   "cell_type": "code",
   "execution_count": 13,
   "metadata": {},
   "outputs": [],
   "source": [
    "a = [1,2,3,\"red\",\"wine\",4,5,[6,7,8],'white']"
   ]
  },
  {
   "cell_type": "code",
   "execution_count": 14,
   "metadata": {},
   "outputs": [
    {
     "name": "stdout",
     "output_type": "stream",
     "text": [
      "[1, 2, 3]\n"
     ]
    }
   ],
   "source": [
    "print(a[:3])"
   ]
  },
  {
   "cell_type": "code",
   "execution_count": 15,
   "metadata": {},
   "outputs": [
    {
     "name": "stdout",
     "output_type": "stream",
     "text": [
      "white\n"
     ]
    }
   ],
   "source": [
    "print(a[-1])\n"
   ]
  },
  {
   "cell_type": "code",
   "execution_count": 16,
   "metadata": {},
   "outputs": [
    {
     "name": "stdout",
     "output_type": "stream",
     "text": [
      "['red', 'wine', 4, 5, [6, 7, 8]]\n"
     ]
    }
   ],
   "source": [
    "print(a[3:8])\n"
   ]
  },
  {
   "cell_type": "code",
   "execution_count": 17,
   "metadata": {},
   "outputs": [
    {
     "name": "stdout",
     "output_type": "stream",
     "text": [
      "['white', [6, 7, 8], 5, 4, 'wine', 'red', 3, 2, 1]\n"
     ]
    }
   ],
   "source": [
    "print(a[::-1])"
   ]
  },
  {
   "cell_type": "code",
   "execution_count": 18,
   "metadata": {},
   "outputs": [
    {
     "name": "stdout",
     "output_type": "stream",
     "text": [
      "[4, 5, [6, 7, 8], 'white']\n"
     ]
    }
   ],
   "source": [
    "print(a[-4:])\n"
   ]
  },
  {
   "cell_type": "code",
   "execution_count": 19,
   "metadata": {},
   "outputs": [
    {
     "name": "stdout",
     "output_type": "stream",
     "text": [
      "['white', [6, 7, 8], 5, 4]\n"
     ]
    }
   ],
   "source": [
    "print(a[-1:-5:-1])\n"
   ]
  },
  {
   "cell_type": "code",
   "execution_count": 20,
   "metadata": {},
   "outputs": [
    {
     "name": "stdout",
     "output_type": "stream",
     "text": [
      "[1, 'red', 5]\n"
     ]
    }
   ],
   "source": [
    "print(a[::3])\n"
   ]
  },
  {
   "cell_type": "code",
   "execution_count": 21,
   "metadata": {},
   "outputs": [
    {
     "name": "stdout",
     "output_type": "stream",
     "text": [
      "['red', 4, [6, 7, 8]]\n"
     ]
    }
   ],
   "source": [
    "print(a[3:9:2])\n"
   ]
  },
  {
   "cell_type": "code",
   "execution_count": null,
   "metadata": {},
   "outputs": [],
   "source": []
  }
 ],
 "metadata": {
  "kernelspec": {
   "display_name": "Python 3",
   "language": "python",
   "name": "python3"
  },
  "language_info": {
   "codemirror_mode": {
    "name": "ipython",
    "version": 3
   },
   "file_extension": ".py",
   "mimetype": "text/x-python",
   "name": "python",
   "nbconvert_exporter": "python",
   "pygments_lexer": "ipython3",
   "version": "3.6.9"
  }
 },
 "nbformat": 4,
 "nbformat_minor": 2
}
