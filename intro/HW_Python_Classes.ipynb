{
 "cells": [
  {
   "cell_type": "markdown",
   "metadata": {},
   "source": [
    "### 1. Create abstract class named \"Shape2D\" with abstract method \"get_Area\" and \"get_Perimeter\". In constructor pass variable dim=2 default value. Create subclasses \"Circle\", \"Triangle\", \"Paralellogram\". Each of the constructors should override the Base constructor and add case specific variables passes by argument."
   ]
  },
  {
   "cell_type": "code",
   "execution_count": 189,
   "metadata": {},
   "outputs": [],
   "source": [
    "from abc import ABC, abstractmethod\n",
    "import math\n",
    "class Shape2D(ABC):\n",
    "    def __init__(self, dim = 2):\n",
    "        self.dim = dim\n",
    "        \n",
    "    @abstractmethod\n",
    "    def get_Area():\n",
    "        pass\n",
    "    \n",
    "    def get_Perimeter():\n",
    "        pass\n",
    "\n",
    "class Circle(Shape2D):\n",
    "    def __init__(self, rad):\n",
    "        super().__init__()\n",
    "        self.rad = rad\n",
    "        \n",
    "    def get_Area(self):\n",
    "        return math.pi * self.rad**2\n",
    "    \n",
    "    def get_Perimeter(self):\n",
    "        return 2 * math.pi * self.rad\n",
    "    \n",
    "class Triangle(Shape2D):\n",
    "    def __init__(self, side_a, side_b, side_c):\n",
    "        super().__init__()\n",
    "        self.side_a = side_a\n",
    "        self.side_b = side_b\n",
    "        self.side_c = side_c\n",
    "    \n",
    "    def get_Area(self):\n",
    "        p = (self.side_a + self.side_b + self.side_c) / 2\n",
    "        return math.sqrt(p * (p - self.side_a) * (p - self.side_b) * (p - self.side_c))\n",
    "    \n",
    "    def get_Perimeter(self):\n",
    "        return self.side_a + self.side_b + self.side_c \n",
    "    \n",
    "class Parallelogram(Shape2D):\n",
    "    def __init__(self):\n",
    "        pass\n",
    "    \n",
    "    def get_Area(self, side_a, side_b, angle = None):\n",
    "        if angle == None:\n",
    "            return side_a * side_b \n",
    "        else:\n",
    "            return side_a * side_b * math.sin(angle)\n",
    "           \n",
    "    def get_Perimeter(self, side_a, side_b):\n",
    "        return 2 * (side_a + side_b)"
   ]
  },
  {
   "cell_type": "code",
   "execution_count": 197,
   "metadata": {},
   "outputs": [
    {
     "name": "stdout",
     "output_type": "stream",
     "text": [
      "Input a Radius of Circle: 5\n",
      "Area of Circle =  78.53981633974483\n",
      "Perimeter of Circle =  31.41592653589793\n",
      "Input a triangle side:\n",
      "side_a = 3\n",
      "side_b = 4\n",
      "side_c = 5\n",
      "Area of Triangle =  6.0\n",
      "Perimeter of Triangle =  12\n",
      "Input a Parallelogram parameters:\n",
      "Side and Height or Side1, Side2 and Angle\n",
      "6\n",
      "5.363979981603347\n",
      "18\n"
     ]
    }
   ],
   "source": [
    "rad = int(input(\"Input a Radius of Circle: \"))\n",
    "objc = Circle(rad)\n",
    "print(\"Area of Circle = \", objc.get_Area())\n",
    "print(\"Perimeter of Circle = \", objc.get_Perimeter())\n",
    "\n",
    "print(\"Input a triangle side:\")\n",
    "while True:\n",
    "    side_a = int(input(\"side_a = \"))\n",
    "    side_b = int(input(\"side_b = \"))\n",
    "    side_c = int(input(\"side_c = \"))\n",
    "    if side_a + side_b <= side_c or side_a + side_c <= side_b or side_b + side_c <= side_a:\n",
    "        print(\"Triangle doesn't exist with such parameters:\", \"Input again\", sep = '\\n')\n",
    "    else:\n",
    "        break        \n",
    "objt = Triangle(side_a, side_b, side_c)\n",
    "print(\"Area of Triangle = \", objt.get_Area())\n",
    "print(\"Perimeter of Triangle = \", objt.get_Perimeter())\n",
    "\n",
    "objp = Parallelogram()\n",
    "print(\"Input a Parallelogram parameters:\", \"Side and Height or Side1, Side2 and Angle\", sep = '\\n')\n",
    "print(objp.get_Area(2, 3))\n",
    "print(objp.get_Area(2, 3, 90))\n",
    "print(objp.get_Perimeter(4, 5))"
   ]
  },
  {
   "cell_type": "markdown",
   "metadata": {},
   "source": [
    "### 2.1. Create class \"Matrix\", initialize it with params \"nrows\" and \"ncols\" ( number of rows, number of columns). Define a class method \"create_matrix\" which takes a list of integers as argument and creates a list of lists (matrix) with the given nrows and ncols."
   ]
  },
  {
   "cell_type": "code",
   "execution_count": 404,
   "metadata": {},
   "outputs": [],
   "source": [
    "class Matrix:\n",
    "    def __init__(self, nrows, ncols):\n",
    "        self.nrows = nrows\n",
    "        self.ncols = ncols\n",
    "        self.matrix = 0\n",
    "             \n",
    "    def create_matrix(self, l):\n",
    "        self.matx = []\n",
    "        for i in range(self.nrows):\n",
    "            lis = []\n",
    "            for j in range(self.ncols):\n",
    "                lis.append(l[j+i*self.ncols])\n",
    "            self.matx.append(lis)\n",
    "        return self.matx"
   ]
  },
  {
   "cell_type": "code",
   "execution_count": 405,
   "metadata": {
    "scrolled": false
   },
   "outputs": [
    {
     "name": "stdout",
     "output_type": "stream",
     "text": [
      "Enter a column of matrix: 2\n",
      "Enter a row of matrix: 3\n",
      "2\n",
      "3\n",
      "2\n",
      "32\n",
      "2\n",
      "3\n",
      "[[2, 3], [2, 32], [2, 3]]\n"
     ]
    }
   ],
   "source": [
    "l = []\n",
    "#k = [[1, 2], [1, 2]]\n",
    "n = int(input(\"Enter a column of matrix: \"))\n",
    "m = int(input(\"Enter a row of matrix: \")) \n",
    "for i in range(n*m):\n",
    "    l.append(int(input()))\n",
    "obj = Matrix(m, n)\n",
    "print(obj.create_matrix(l))"
   ]
  },
  {
   "cell_type": "markdown",
   "metadata": {},
   "source": [
    "2.2. Implement operator in the same Matrix class. Overload operator * with proper matrix multiplication. (We have already implemented that during previous class, remember? Use that!)"
   ]
  },
  {
   "cell_type": "code",
   "execution_count": 377,
   "metadata": {},
   "outputs": [],
   "source": [
    "def __mul__(self, other):\n",
    "    if len(matrix_A[0] == len(matrix_B)):\n",
    "        matrix = []\n",
    "        for k in range(len(matrix_A)):\n",
    "            l_ = []\n",
    "            for i in range(len(matrix_A)):\n",
    "                s = 0\n",
    "                for j in range(len(matrix_B)):\n",
    "                    s += matrix_A[k][j] * matrix_B[j][i]\n",
    "                l_.append(s)\n",
    "            matrix.append(l_)\n",
    "    else:\n",
    "        print(\"no\")                "
   ]
  },
  {
   "cell_type": "code",
   "execution_count": null,
   "metadata": {},
   "outputs": [],
   "source": [
    "#create class instances and test"
   ]
  },
  {
   "cell_type": "markdown",
   "metadata": {},
   "source": [
    "### 2.3. Add \"transpose\" method to the same Matrix class."
   ]
  },
  {
   "cell_type": "code",
   "execution_count": 401,
   "metadata": {},
   "outputs": [],
   "source": [
    "def transpose(matrix):\n",
    "    t_matrix = []\n",
    "    for i in range(len(matrix[0])):\n",
    "        lis = []\n",
    "        for j in range(len(matrix)):\n",
    "            lis.append(matrix[j][i])\n",
    "        t_matrix.append(lis)\n",
    "    return t_matrix"
   ]
  },
  {
   "cell_type": "code",
   "execution_count": 403,
   "metadata": {},
   "outputs": [
    {
     "name": "stdout",
     "output_type": "stream",
     "text": [
      "[[1, 3, 5], [2, 4, 6]]\n"
     ]
    }
   ],
   "source": [
    "k = [[1, 2], [3, 4], [5, 6]]\n",
    "print(transpose(k))"
   ]
  },
  {
   "cell_type": "markdown",
   "metadata": {},
   "source": [
    "### 2.4. Overload operator + in the same Matrix class."
   ]
  },
  {
   "cell_type": "code",
   "execution_count": 384,
   "metadata": {},
   "outputs": [],
   "source": [
    "def __add__(self, other):\n",
    "    if len(self.matrix) == len(other.matrix) and len(self.matrix[0]) == len(other.matrix[0]):\n",
    "        matx = []\n",
    "        for i in range(len(self.matrix)):\n",
    "            lis = []\n",
    "            for j in range(len(self.matrix[0])):\n",
    "                lis.append(self.matrix[i][j]+other.matrix[i][j])\n",
    "            matx.append(lis)\n",
    "        return(matx)\n",
    "    else:\n",
    "        print(\"These matrixes can't be summarized\")"
   ]
  },
  {
   "cell_type": "code",
   "execution_count": null,
   "metadata": {},
   "outputs": [],
   "source": []
  },
  {
   "cell_type": "markdown",
   "metadata": {},
   "source": [
    "### 3. Create abstract class \"Number\" with abstractmethods +,-,* operators' magic methods (__add__, __sub__, __mul__). Create 2 subclasses \"Real\" and \"Complex\"."
   ]
  },
  {
   "cell_type": "code",
   "execution_count": 303,
   "metadata": {},
   "outputs": [],
   "source": [
    "class Number(ABC):\n",
    "    def __init(self):\n",
    "        pass\n",
    "    @abstractmethod\n",
    "    def __add__(self, other):\n",
    "        pass\n",
    "    \n",
    "    def __sub__(self, other):\n",
    "        pass\n",
    "    \n",
    "    def __mul__(self, other):\n",
    "        pass\n",
    "    \n",
    "class Real(Number):\n",
    "    def __init__(self, value1, value2):   \n",
    "        self.value1 = value1\n",
    "        self.value2 = value2\n",
    "    def __add__(self, other):\n",
    "        return self.value1 + other.value1, self.value2 + other.value2\n",
    "    \n",
    "    def __sub__(self, other):\n",
    "        return self.value1 - other.value1, self.value2 - other.value2\n",
    "    \n",
    "    def __mul__(self, other):\n",
    "        return self.value1 * other.value1, self.value2 * other.value2\n",
    "    \n",
    "class Complex(Number):\n",
    "    def __init__(self, value1, value2):\n",
    "        self.value1 = value1\n",
    "        self.value2 = value2\n",
    "        \n",
    "    def __add__(self, other):\n",
    "        print('{}' \" + (\" '{}' \")i\".format(self.value1 + other.value1, self.value2 + other.value2))\n",
    "        \n",
    "    def __sub__(self, other):\n",
    "        print('{}' \" + (\" '{}' \")i\".format(self.value1 - other.value1, self.value2 - other.value2))\n",
    "        \n",
    "    def __mul__(self, other):\n",
    "        real = self.value1 * other.value1 + self.value2 * other.value2 * (-1)\n",
    "        imaginary = self.value1 * other.value2 + self.value2 * other.value1\n",
    "        if imaginary < 0:\n",
    "            print('{}' ' - ' '{}' 'i'.format(real, -imaginary))\n",
    "        elif imaginary == 0:\n",
    "            print(real, 0, sep = ' + ')\n",
    "        else:\n",
    "            print('{}' ' + ' '{}' 'i'.format(real, imaginary))"
   ]
  },
  {
   "cell_type": "code",
   "execution_count": 304,
   "metadata": {},
   "outputs": [
    {
     "name": "stdout",
     "output_type": "stream",
     "text": [
      "(0, 12)\n",
      "(4, -6)\n",
      "(-4, 27)\n",
      "7 + (-3)i\n",
      "-1 + (7)i\n",
      "22 - 7i\n"
     ]
    }
   ],
   "source": [
    "obj1 = Real(2, 3)\n",
    "obj2 = Real(-2, 9)\n",
    "print(obj1+obj2)\n",
    "print(obj1-obj2)\n",
    "print(obj1*obj2)\n",
    "\n",
    "obj1 = Complex(3, 2)\n",
    "obj2 = Complex(4, -5)\n",
    "obj1+obj2\n",
    "obj1-obj2\n",
    "obj1*obj2"
   ]
  },
  {
   "cell_type": "markdown",
   "metadata": {},
   "source": [
    "### 4. Think of a polymorphism example from your workplace/univsersity, or daily routine. Create a class out of that idea. Make it more complex by adding some interesting functionlity.\n",
    "### Try to be maximum creative (:"
   ]
  },
  {
   "cell_type": "code",
   "execution_count": 279,
   "metadata": {},
   "outputs": [
    {
     "name": "stdout",
     "output_type": "stream",
     "text": [
      "(4, 6)(6, 9)\n"
     ]
    }
   ],
   "source": []
  },
  {
   "cell_type": "code",
   "execution_count": null,
   "metadata": {},
   "outputs": [],
   "source": [
    "#create class instances and test"
   ]
  },
  {
   "cell_type": "markdown",
   "metadata": {},
   "source": [
    "### 5. Let's model the Educational System. Below I have listed some entities regarding to Educational System.\n",
    "* Universities\n",
    "* Schools\n",
    "* Kindergartens\n",
    "* Colleges\n",
    "* Teachers at Schools\n",
    "* Teachers at Kindergartens\n",
    "* Teachers at Colleges\n",
    "* Lecturers at Universities\n",
    "* Students\n",
    "* Pupils\n",
    "* Children\n",
    "* University Faculties\n",
    "* Bachelor Degree\n",
    "* Masters Degree\n",
    "* PhD Degree\n",
    "* Primary School\n",
    "* Middle School\n",
    "* High School\n",
    "\n",
    "### You have to decide for yourself what classes, methods, parameters, inheritances do you need. The entities listed above are just there to help you. You can add or remove anything from that list.\n",
    "### I expect a complex group of classes, where I can find multiple inheritances and lots of method overriding. Again, try to be creative and efficient!"
   ]
  },
  {
   "cell_type": "code",
   "execution_count": 1,
   "metadata": {},
   "outputs": [],
   "source": [
    "class Educational_Institution:\n",
    "    def __init__(self, name, address, students, teachers):\n",
    "        self.name = name\n",
    "        self.address = address\n",
    "        self.students = students\n",
    "        self.teachers = teachers\n",
    "\n",
    "class Universities(Educational_Institution):\n",
    "    def __init__(self, name, address, faculties, lecturers, dict_ = {}):\n",
    "        #super().__init__(name, address)\n",
    "        self.name = name\n",
    "        self.address = address\n",
    "        self.faculties = faculties\n",
    "        self.lecturers = lecturers\n",
    "        self.students = 0\n",
    "        self.name_student = None\n",
    "        self.degree_student = None\n",
    "        self.value = None\n",
    "        self.key = None\n",
    "        self.dict_ = dict_\n",
    "        \n",
    "    def add_student(self):\n",
    "        self.name_student = input(\"input a name: \")\n",
    "        self.degree_student = input(\"input your student degree: \")\n",
    "        self.value = {\"name\" : self.name_student, \"degree\" : self.degree_student}\n",
    "        self.students += 1 \n",
    "        self.key = \"student\" + str(self.students)\n",
    "        self.dict_[self.key] = self.value \n",
    "    \n",
    "    def print_info(self):\n",
    "        print('{}' \" University\".format(self.name))\n",
    "        print(\"Address: \", self.address)\n",
    "        print(\"Faculties: \", self.faculties)\n",
    "        print(\"Lecturers: \", self.lecturers)\n",
    "        print(\"Number of students :\", self.students)\n",
    "        print(self.dict_)\n",
    "    \n",
    "class Schools(Educational_Institution):\n",
    "    def __init__(self, name, address, teachers, pupils):\n",
    "        super().__init__(name, address, teachers)\n",
    "        self.pupils = pupils\n",
    "\n",
    "class Kindergartens(Educational_Institution):\n",
    "    def __init__(self, name, address, teachers, childrens):\n",
    "        super().__init__(name, address, teachers)\n",
    "        self.childrens = childrens\n",
    "\n",
    "class Colleges(Educational_Institution):\n",
    "    def __init__(self, name, address, teachers, students):\n",
    "        super().__init__(name, address, teachers, students)\n",
    "    \n",
    "class Primary_school(Schools):\n",
    "    def __init__(self, name, address, teachers, pupils):\n",
    "        super().__init__(name, address, teachers, pupils)\n",
    "    \n",
    "class Middle_school(Schools):\n",
    "    def __init__(self, name, address, teachers, pupils):\n",
    "        super().__init__(name, address, teachers, pupils)\n",
    "    \n",
    "class High_school(Schools):\n",
    "    def __init__(self, name, address, teachers, pupils):\n",
    "        super().__init__(name, address, teachers, pupils)\n"
   ]
  },
  {
   "cell_type": "code",
   "execution_count": null,
   "metadata": {},
   "outputs": [],
   "source": [
    "ob = Universities(\"National Polytechnic\", \"Teryan\", \"QH ev IA\", \"G. Manukyan\")\n",
    "ob.add_student()\n",
    "ob.print_info()"
   ]
  }
 ],
 "metadata": {
  "kernelspec": {
   "display_name": "Python 3",
   "language": "python",
   "name": "python3"
  },
  "language_info": {
   "codemirror_mode": {
    "name": "ipython",
    "version": 3
   },
   "file_extension": ".py",
   "mimetype": "text/x-python",
   "name": "python",
   "nbconvert_exporter": "python",
   "pygments_lexer": "ipython3",
   "version": "3.6.9"
  }
 },
 "nbformat": 4,
 "nbformat_minor": 2
}
