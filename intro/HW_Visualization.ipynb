{
 "cells": [
  {
   "cell_type": "code",
   "execution_count": 36,
   "metadata": {},
   "outputs": [],
   "source": [
    "import pandas as pd\n",
    "import numpy as np\n",
    "import matplotlib.pyplot as plt\n",
    "import seaborn as sns"
   ]
  },
  {
   "cell_type": "code",
   "execution_count": 51,
   "metadata": {},
   "outputs": [
    {
     "data": {
      "text/html": [
       "<div>\n",
       "<style scoped>\n",
       "    .dataframe tbody tr th:only-of-type {\n",
       "        vertical-align: middle;\n",
       "    }\n",
       "\n",
       "    .dataframe tbody tr th {\n",
       "        vertical-align: top;\n",
       "    }\n",
       "\n",
       "    .dataframe thead th {\n",
       "        text-align: right;\n",
       "    }\n",
       "</style>\n",
       "<table border=\"1\" class=\"dataframe\">\n",
       "  <thead>\n",
       "    <tr style=\"text-align: right;\">\n",
       "      <th></th>\n",
       "      <th>Unnamed: 0</th>\n",
       "      <th>price</th>\n",
       "      <th>condition</th>\n",
       "      <th>district</th>\n",
       "      <th>max_floor</th>\n",
       "      <th>street</th>\n",
       "      <th>num_rooms</th>\n",
       "      <th>region</th>\n",
       "      <th>area</th>\n",
       "      <th>url</th>\n",
       "      <th>num_bathrooms</th>\n",
       "      <th>building_type</th>\n",
       "      <th>floor</th>\n",
       "      <th>ceiling_height</th>\n",
       "    </tr>\n",
       "  </thead>\n",
       "  <tbody>\n",
       "    <tr>\n",
       "      <th>0</th>\n",
       "      <td>0</td>\n",
       "      <td>65000.0</td>\n",
       "      <td>good</td>\n",
       "      <td>Center</td>\n",
       "      <td>9</td>\n",
       "      <td>Vardanants St</td>\n",
       "      <td>3</td>\n",
       "      <td>Yerevan</td>\n",
       "      <td>80.0</td>\n",
       "      <td>http://www.myrealty.am/en/item/24032/3-senyaka...</td>\n",
       "      <td>1</td>\n",
       "      <td>panel</td>\n",
       "      <td>4</td>\n",
       "      <td>2.8</td>\n",
       "    </tr>\n",
       "    <tr>\n",
       "      <th>1</th>\n",
       "      <td>1</td>\n",
       "      <td>140000.0</td>\n",
       "      <td>newly repaired</td>\n",
       "      <td>Arabkir</td>\n",
       "      <td>10</td>\n",
       "      <td>Hr.Kochar St</td>\n",
       "      <td>4</td>\n",
       "      <td>Yerevan</td>\n",
       "      <td>115.0</td>\n",
       "      <td>http://www.myrealty.am/en/item/17599/4-senyaka...</td>\n",
       "      <td>1</td>\n",
       "      <td>monolit</td>\n",
       "      <td>2</td>\n",
       "      <td>3.0</td>\n",
       "    </tr>\n",
       "    <tr>\n",
       "      <th>2</th>\n",
       "      <td>2</td>\n",
       "      <td>97000.0</td>\n",
       "      <td>newly repaired</td>\n",
       "      <td>Center</td>\n",
       "      <td>10</td>\n",
       "      <td>Teryan St</td>\n",
       "      <td>2</td>\n",
       "      <td>Yerevan</td>\n",
       "      <td>72.0</td>\n",
       "      <td>http://www.myrealty.am/en/item/29472/2-senyaka...</td>\n",
       "      <td>1</td>\n",
       "      <td>panel</td>\n",
       "      <td>3</td>\n",
       "      <td>2.8</td>\n",
       "    </tr>\n",
       "    <tr>\n",
       "      <th>3</th>\n",
       "      <td>3</td>\n",
       "      <td>47000.0</td>\n",
       "      <td>good</td>\n",
       "      <td>Center</td>\n",
       "      <td>9</td>\n",
       "      <td>D. Demirchyan St</td>\n",
       "      <td>1</td>\n",
       "      <td>Yerevan</td>\n",
       "      <td>43.0</td>\n",
       "      <td>http://www.myrealty.am/en/item/37186/1-senyaka...</td>\n",
       "      <td>1</td>\n",
       "      <td>panel</td>\n",
       "      <td>9</td>\n",
       "      <td>2.8</td>\n",
       "    </tr>\n",
       "    <tr>\n",
       "      <th>4</th>\n",
       "      <td>4</td>\n",
       "      <td>51000.0</td>\n",
       "      <td>newly repaired</td>\n",
       "      <td>Center</td>\n",
       "      <td>14</td>\n",
       "      <td>Sayat Nova Ave</td>\n",
       "      <td>1</td>\n",
       "      <td>Yerevan</td>\n",
       "      <td>33.0</td>\n",
       "      <td>http://www.myrealty.am/en/item/37184/1-senyaka...</td>\n",
       "      <td>1</td>\n",
       "      <td>other</td>\n",
       "      <td>4</td>\n",
       "      <td>2.8</td>\n",
       "    </tr>\n",
       "  </tbody>\n",
       "</table>\n",
       "</div>"
      ],
      "text/plain": [
       "   Unnamed: 0     price       condition district  max_floor            street  \\\n",
       "0           0   65000.0            good   Center          9     Vardanants St   \n",
       "1           1  140000.0  newly repaired  Arabkir         10      Hr.Kochar St   \n",
       "2           2   97000.0  newly repaired   Center         10         Teryan St   \n",
       "3           3   47000.0            good   Center          9  D. Demirchyan St   \n",
       "4           4   51000.0  newly repaired   Center         14    Sayat Nova Ave   \n",
       "\n",
       "   num_rooms   region   area  \\\n",
       "0          3  Yerevan   80.0   \n",
       "1          4  Yerevan  115.0   \n",
       "2          2  Yerevan   72.0   \n",
       "3          1  Yerevan   43.0   \n",
       "4          1  Yerevan   33.0   \n",
       "\n",
       "                                                 url  num_bathrooms  \\\n",
       "0  http://www.myrealty.am/en/item/24032/3-senyaka...              1   \n",
       "1  http://www.myrealty.am/en/item/17599/4-senyaka...              1   \n",
       "2  http://www.myrealty.am/en/item/29472/2-senyaka...              1   \n",
       "3  http://www.myrealty.am/en/item/37186/1-senyaka...              1   \n",
       "4  http://www.myrealty.am/en/item/37184/1-senyaka...              1   \n",
       "\n",
       "  building_type  floor  ceiling_height  \n",
       "0         panel      4             2.8  \n",
       "1       monolit      2             3.0  \n",
       "2         panel      3             2.8  \n",
       "3         panel      9             2.8  \n",
       "4         other      4             2.8  "
      ]
     },
     "execution_count": 51,
     "metadata": {},
     "output_type": "execute_result"
    }
   ],
   "source": [
    "evn = pd.read_csv(\"../Data/yerevan_houses.csv\")\n",
    "evn.head()"
   ]
  },
  {
   "cell_type": "markdown",
   "metadata": {},
   "source": [
    "#### Get rid of Unnamed:0 column"
   ]
  },
  {
   "cell_type": "code",
   "execution_count": null,
   "metadata": {},
   "outputs": [],
   "source": []
  },
  {
   "cell_type": "markdown",
   "metadata": {},
   "source": [
    "#### Catch the NaN values and try to handle them. Possible treatments could be:\n",
    "\n",
    "* dropping the records containing NaN values\n",
    "* filling the NaN values with something meaningfull"
   ]
  },
  {
   "cell_type": "code",
   "execution_count": null,
   "metadata": {},
   "outputs": [],
   "source": []
  },
  {
   "cell_type": "markdown",
   "metadata": {},
   "source": [
    "#### Find out existing correlations with \"price\" column. Plot the heatmap."
   ]
  },
  {
   "cell_type": "code",
   "execution_count": null,
   "metadata": {},
   "outputs": [],
   "source": []
  },
  {
   "cell_type": "markdown",
   "metadata": {},
   "source": [
    "#### Try doing some bivariate analysis for \"price\" column. <br> For numerical columns you can use jointplot and pairplot, for numerical columns try to make catplots (barplots, countplots, boxplots including).  Use categorical features as hue parameter in pairplots. Include some notes and conclusions you make upon all of these accordingly. For example, do you notice a common pattern between \"price\" and \"district\"? Or how does the number of rooms affect on the house price, etc. "
   ]
  },
  {
   "cell_type": "code",
   "execution_count": null,
   "metadata": {},
   "outputs": [],
   "source": []
  },
  {
   "cell_type": "markdown",
   "metadata": {},
   "source": [
    "#### Write code which plots distplots of all numeric columns in a loop."
   ]
  },
  {
   "cell_type": "code",
   "execution_count": null,
   "metadata": {},
   "outputs": [],
   "source": []
  },
  {
   "cell_type": "markdown",
   "metadata": {},
   "source": [
    "#### Plot boxplot and barplot couples as subplots for all categorical columns vs \"price\" in a loop. <br> Use tight layout to avoid overlapping. Use ```fig, axes = plt.subplots(nrows, ncols)``` "
   ]
  },
  {
   "cell_type": "code",
   "execution_count": null,
   "metadata": {},
   "outputs": [],
   "source": []
  },
  {
   "cell_type": "markdown",
   "metadata": {},
   "source": [
    "#### **Bonus: Try to visualize the street occurencies in this dataframe on map. Just checking googling skills :)"
   ]
  },
  {
   "cell_type": "code",
   "execution_count": null,
   "metadata": {},
   "outputs": [],
   "source": []
  }
 ],
 "metadata": {
  "kernelspec": {
   "display_name": "Python 3",
   "language": "python",
   "name": "python3"
  },
  "language_info": {
   "codemirror_mode": {
    "name": "ipython",
    "version": 3
   },
   "file_extension": ".py",
   "mimetype": "text/x-python",
   "name": "python",
   "nbconvert_exporter": "python",
   "pygments_lexer": "ipython3",
   "version": "3.6.5"
  }
 },
 "nbformat": 4,
 "nbformat_minor": 2
}
